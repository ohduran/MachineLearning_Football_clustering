{
 "cells": [
  {
   "cell_type": "markdown",
   "metadata": {},
   "source": [
    "Let's get started with a little something that I prepared, now that my favourite football team -- Real Madrid -- has won the LaLiga championship.\n",
    "\n",
    "In this case, I'm going to use [machine learning](https://en.wikipedia.org/wiki/Machine_learning) to cluster football players into four groups.\n",
    "\n",
    "Long story short: can data make out who is goalkeeper, defender, midfielder or forward?\n",
    "\n",
    "I understand this could be a good starting point for this blog's very first season. But let's not count our chickens before they are hatched, and take off from solid foundations.\n",
    "\n",
    "Whatever we do in Data Science, we should always be guided by the following framework.\n",
    "\n",
    "1) Ask a question\n",
    "\n",
    "2) Gather data\n",
    "\n",
    "3) Explore\n",
    "\n",
    "4) Model\n",
    "\n",
    "5) Communicate\n",
    "\n",
    "Given the question \"Can data make out football players the way humans do?\", let's go straight to step 2. Using information available at the Spanish sport magazine [Marca](http://www.marca.com/), I put together a table named \"DataSet2.xlsx\" (see the project [on github](https://github.com/ohduran/MachineLearning_Football_clustering))\n"
   ]
  },
  {
   "cell_type": "code",
   "execution_count": 1,
   "metadata": {
    "collapsed": false
   },
   "outputs": [],
   "source": [
    "import pandas as pd\n",
    "\n",
    "df2 = pd.ExcelFile('DataSet2.xlsx').parse('Sheet1')"
   ]
  },
  {
   "cell_type": "markdown",
   "metadata": {},
   "source": [
    "df2 stores as a DataFrame whatever is in this Excel sheet, which is a list of all Real players with their season information available:\n",
    "\n",
    "- Name\n",
    "- Shirt number\n",
    "- Matches played\n",
    "- Stops (Saves) per match\n",
    "- Goals Right Foot per match\n",
    "- Goals Left Foot per match\n",
    "- Goals Head per match\n",
    "- Shoots Right Foot per match\n",
    "- Shoots Left Foot per match\n",
    "- Shoots Head per match\n",
    "- Yellow Cards per match\n",
    "- Red Cards per match\n",
    "- Offsides per match\n",
    "- Assistances per match\n",
    "- Ball losses per match\n",
    "- Ball recoveries per match\n",
    "\n",
    "What we are going to do is using a Python library called sci-learn, and more specifically, the KMeans class. It uses all this players' data as data points, and iteratively calculates a \"center of mass\" to which data is assumed to gravitate.\n",
    "\n",
    "That is: data is assumed to answer question in step 1 as \"Yes\". So we work under that assumption to classify players and see what are the features of goalkeepers, midfielders, ... that make them so."
   ]
  },
  {
   "cell_type": "code",
   "execution_count": 2,
   "metadata": {
    "collapsed": false
   },
   "outputs": [
    {
     "data": {
      "text/html": [
       "<div>\n",
       "<table border=\"1\" class=\"dataframe\">\n",
       "  <thead>\n",
       "    <tr style=\"text-align: right;\">\n",
       "      <th></th>\n",
       "      <th>Name</th>\n",
       "      <th>Shirt</th>\n",
       "      <th>Match played</th>\n",
       "      <th>Stops pM</th>\n",
       "      <th>Goals RF pM</th>\n",
       "      <th>Goals LF pM</th>\n",
       "      <th>Goals H pM</th>\n",
       "    </tr>\n",
       "  </thead>\n",
       "  <tbody>\n",
       "    <tr>\n",
       "      <th>0</th>\n",
       "      <td>Navas</td>\n",
       "      <td>1</td>\n",
       "      <td>26</td>\n",
       "      <td>3.076923</td>\n",
       "      <td>0.000000</td>\n",
       "      <td>0.0</td>\n",
       "      <td>0.000000</td>\n",
       "    </tr>\n",
       "    <tr>\n",
       "      <th>1</th>\n",
       "      <td>Carvajal</td>\n",
       "      <td>2</td>\n",
       "      <td>26</td>\n",
       "      <td>0.000000</td>\n",
       "      <td>0.000000</td>\n",
       "      <td>0.0</td>\n",
       "      <td>0.000000</td>\n",
       "    </tr>\n",
       "    <tr>\n",
       "      <th>2</th>\n",
       "      <td>Pepe</td>\n",
       "      <td>3</td>\n",
       "      <td>13</td>\n",
       "      <td>0.000000</td>\n",
       "      <td>0.000000</td>\n",
       "      <td>0.0</td>\n",
       "      <td>0.230769</td>\n",
       "    </tr>\n",
       "    <tr>\n",
       "      <th>3</th>\n",
       "      <td>Ramos</td>\n",
       "      <td>4</td>\n",
       "      <td>27</td>\n",
       "      <td>0.000000</td>\n",
       "      <td>0.037037</td>\n",
       "      <td>0.0</td>\n",
       "      <td>0.222222</td>\n",
       "    </tr>\n",
       "    <tr>\n",
       "      <th>4</th>\n",
       "      <td>Varane</td>\n",
       "      <td>5</td>\n",
       "      <td>22</td>\n",
       "      <td>0.000000</td>\n",
       "      <td>0.000000</td>\n",
       "      <td>0.0</td>\n",
       "      <td>0.090909</td>\n",
       "    </tr>\n",
       "  </tbody>\n",
       "</table>\n",
       "</div>"
      ],
      "text/plain": [
       "       Name  Shirt  Match played  Stops pM  Goals RF pM  Goals LF pM  \\\n",
       "0     Navas      1            26  3.076923     0.000000          0.0   \n",
       "1  Carvajal      2            26  0.000000     0.000000          0.0   \n",
       "2      Pepe      3            13  0.000000     0.000000          0.0   \n",
       "3     Ramos      4            27  0.000000     0.037037          0.0   \n",
       "4    Varane      5            22  0.000000     0.000000          0.0   \n",
       "\n",
       "   Goals H pM  \n",
       "0    0.000000  \n",
       "1    0.000000  \n",
       "2    0.230769  \n",
       "3    0.222222  \n",
       "4    0.090909  "
      ]
     },
     "execution_count": 2,
     "metadata": {},
     "output_type": "execute_result"
    }
   ],
   "source": [
    "#this will get rid of Names and Matches played for now, \n",
    "#because they are just labels\n",
    "df = df2.ix[:,3:] \n",
    "\n",
    "#this will be the names table, for reference.\n",
    "df_label = df2.ix[:,:1]\n",
    "\n",
    "#this are matches played for each player\n",
    "df_mplayed = df2.ix[:,2:3]\n",
    "\n",
    "#Show, as an example, the first 5 players' 6 first attributes\n",
    "df2.iloc[:5, :7]"
   ]
  },
  {
   "cell_type": "markdown",
   "metadata": {},
   "source": [
    "Now, we need to store this as a Numpy array so we can perform Machine Learning on it. Seems like the ML library doesn't go with pandas, and there have been efforts to acommodate one another (based on me googling here and there).\n",
    "\n",
    "Instead, we can write a bit of code in this case, luckily."
   ]
  },
  {
   "cell_type": "code",
   "execution_count": 3,
   "metadata": {
    "collapsed": false
   },
   "outputs": [],
   "source": [
    "import numpy as np\n",
    "#Define the list of features\n",
    "columns = list(df.columns.values)\n",
    "#Allocate some memory for the matrix using a zeroes matrix\n",
    "c = [[0 for y in range(len(columns))] for x in range(len(df_label))]\n",
    "\n",
    "# Fill process #\n",
    "\n",
    "#row is the subset of columns with index i, \n",
    "#or the i-th row\n",
    "for i in range (len(df_label)):\n",
    "    row = df.iloc[i]\n",
    "    for j in range(len(columns)):\n",
    "        c[i][j]=row[columns[j]]\n",
    "\n",
    "#Now, numpy takes the matrix and creates the numpy array\n",
    "X = np.array(c)"
   ]
  },
  {
   "cell_type": "markdown",
   "metadata": {},
   "source": [
    "Python is great because I don't need to think of memory leaks at this point. I may be losing in speed, but it saves me from a lot of headaches.\n",
    "\n",
    "The process was fairly simple: for each player in the DataFrame, indexed with letter i, go through each column j and store it in a matrix c as the item (i,j). Later, just store it as a numpy array.\n",
    "\n",
    "Let's work the sklearn magic and cluster our data in k=4 groups: goalkeepers, defenders, midfielders, and forwards."
   ]
  },
  {
   "cell_type": "code",
   "execution_count": 4,
   "metadata": {
    "collapsed": false
   },
   "outputs": [],
   "source": [
    "from sklearn.cluster import KMeans\n",
    "\n",
    "k=4\n",
    "\n",
    "#We create a KMeans with k number of clusters,\n",
    "# and set up the process\n",
    "\n",
    "kmeans = KMeans(n_clusters = k)\n",
    "kmeans.fit(X)\n",
    "centroids = kmeans.cluster_centers_ #centroids coordinates\n"
   ]
  },
  {
   "cell_type": "markdown",
   "metadata": {},
   "source": [
    "Now let's visualised how the code clustered the players."
   ]
  },
  {
   "cell_type": "code",
   "execution_count": 5,
   "metadata": {
    "collapsed": false
   },
   "outputs": [],
   "source": [
    "#Let's classify all players by their closest cluster.\n",
    "\n",
    "#To do so, let's define distance\n",
    "def dist_to_nth_centroid(arr,n):\n",
    "    length = len(arr)\n",
    "    sum = 0\n",
    "    centroid_n = centroids[n]\n",
    "    for i in range(length):\n",
    "        sum += (arr[i]-centroid_n[i])**2\n",
    "    return sum\n",
    "\n",
    "#Now, for each element in X we are calculating the distance\n",
    "#and appends its name into the list under the i-th centroid.\n",
    "\n",
    "\n",
    "#Names of the players\n",
    "names =[list(df_label.values[i])[0] for i in range(len(df_label))]\n",
    "P = len(names) #number of players\n",
    "\n",
    "\n",
    "#We are storing players under the same index using a dictionary\n",
    "dic = {}\n",
    "for n in range(k):\n",
    "    dic[n] = []#allocating memory statically\n",
    "    \n",
    "# Loop into distance to each centroid, and store the minimum\n",
    "\n",
    "# i will denote the player (i < P); n the centroid (n < k)\n",
    "\n",
    "for i in range(P):\n",
    "    #Initial values when we start the loop\n",
    "    d = dist_to_nth_centroid(X[i],0)#initial distance is the distance to the centroid\n",
    "    x = 0 #initial cluster value as zero\n",
    "    for n in range(1,k):\n",
    "        dd = dist_to_nth_centroid(X[i],n)\n",
    "        \n",
    "        #if distance to the new cluster is less, change\n",
    "        if dd <d:\n",
    "            d = dd #change distance value\n",
    "            x = n #change cluster value\n",
    "    # Once we have figured out the closest cluster x,\n",
    "    # let's store it in the dict list under i\n",
    "    dic[x].append(names[i])\n"
   ]
  },
  {
   "cell_type": "markdown",
   "metadata": {},
   "source": [
    "And let's present our results, with the non-zero features of each centroid as the KPIs (Key Performance Indicator):"
   ]
  },
  {
   "cell_type": "code",
   "execution_count": 6,
   "metadata": {
    "collapsed": false
   },
   "outputs": [
    {
     "name": "stdout",
     "output_type": "stream",
     "text": [
      "Centroid 0\n",
      "Carvajal Kroos Marcelo Modric Danilo \n",
      "\n",
      "Ball losses pM 8\n",
      "Ball recoveries pM 6\n",
      "\n",
      "Centroid 1\n",
      "Ronaldo Benzema James Bale Coentrao Kovacic Vazquez Asensio Morata Isco \n",
      "\n",
      "Shoots RF pM 1\n",
      "Shoots LF pM 1\n",
      "Ball losses pM 6\n",
      "Ball recoveries pM 2\n",
      "\n",
      "Centroid 2\n",
      "Navas Casilla Mariano \n",
      "\n",
      "Stops pM 2\n",
      "Ball losses pM 1\n",
      "\n",
      "Centroid 3\n",
      "Pepe Ramos Varane Nacho Casemiro \n",
      "\n",
      "Ball losses pM 5\n",
      "Ball recoveries pM 9\n",
      "\n"
     ]
    }
   ],
   "source": [
    "z = list(centroids)\n",
    "for i in range(0,len(centroids)):\n",
    "    z = list(centroids[i])\n",
    "    print \"Centroid\",i\n",
    "    for player in dic[i]:\n",
    "        print player,\n",
    "    print \"\"\n",
    "    print \"\"\n",
    "    for j in range(len(z)):\n",
    "        z[j] = int(round(z[j]))\n",
    "        if z[j] != 0:\n",
    "            print columns[j],\n",
    "            print z[j]\n",
    "    print \"\""
   ]
  },
  {
   "cell_type": "markdown",
   "metadata": {},
   "source": [
    "This shows some potential: it can make out goalkeepers (although it includes Mariano too, which makes some sense as his stats are practically nil), defenders and, oddly enough, wings like Carvajal, Marcelo and Danilo, mixed with Kroos and Modric, midfielders. The remaining are stored mixed: some forwards, midfielders and wings.\n",
    "\n",
    "It also looks like we are differentiating left- from right-footers, and we are unable to cluster them together if there is a reason to.\n",
    "We can sort that out by including total goals as the sum of all goals, and total shoots as the sum of all shoots.\n",
    "\n",
    "There is obviously something missing: a bigger sample. \n",
    "\n",
    "Let me rearrange everything into a new function, and now include... FC Barcelona, and Atletico de Madrid players...\n",
    "\n",
    "\n",
    "_laughs villainly_"
   ]
  },
  {
   "cell_type": "code",
   "execution_count": 7,
   "metadata": {
    "collapsed": false
   },
   "outputs": [],
   "source": [
    "import pandas as pd\n",
    "import numpy as np\n",
    "from sklearn.cluster import KMeans\n",
    "\n",
    "def main(F, sheet, k):\n",
    "\n",
    "    df3 = pd.ExcelFile(F).parse(sheet)\n",
    "\n",
    "\n",
    "    df = df3.ix[:,3:] #this will get rid of Names and Matches played for now, because they are just labels\n",
    "    df_label = df3.ix[:,:1]#this will be the names table, for reference.\n",
    "    df_mplayed = df3.ix[:,1:2] #this are match played\n",
    "\n",
    "    #Define the list of features\n",
    "    columns = list(df.columns.values)\n",
    "    #Allocate some memory for the matrix using a zeroes matrix\n",
    "    c = [[0 for y in range(len(columns))] for x in range(len(df_label))]\n",
    "\n",
    "    #Fill: row is the subset of columns with index i (yes, the i-th row), and fills the c matrix\n",
    "    for i in range(len(df_label)):\n",
    "        row = df.iloc[i]\n",
    "        for j in range(len(columns)):\n",
    "            c[i][j] = row[columns[j]]\n",
    "    #Numpy takes the matrix and creates the Numpy array\n",
    "    X = np.array(c)\n",
    "\n",
    "    # We create a kmeans class with k number of clusters\n",
    "    kmeans = KMeans(n_clusters = k)\n",
    "\n",
    "    #And we set up the cluster process\n",
    "    kmeans.fit(X)\n",
    "    centroids = kmeans.cluster_centers_ #centroids coordinates\n",
    "    #Careful with the final underscore\n",
    "\n",
    "    #Let's create a dict with all the players on each cluster. \n",
    "    #To do so, we need to define distance to the centroid.\n",
    "\n",
    "    def dist_to_nth_centroid(arr,n):\n",
    "        length = len(arr)\n",
    "        sum = 0\n",
    "        centroid_n = centroids[n]\n",
    "        for i in range(length):\n",
    "            sum += (arr[i]-centroid_n[i])**2\n",
    "        return sum\n",
    "\n",
    "    #Now, for each element in X we are calculating the distance to each centroid,\n",
    "    #and append its name into the list under the i-th centroid.\n",
    "\n",
    "    #Name of players\n",
    "    names = [list(df_label.values[i]) for i in range(len(df_label))]\n",
    "    L = len(names) #number of players\n",
    "    dic = {} #we store players here, under the same index a if they are closest to the a-th centroid\n",
    "    for n in range(k):\n",
    "        dic[n] = []\n",
    "\n",
    "    #i will denote the player (i < L); n the centroid (n < k)\n",
    "\n",
    "\n",
    "    for i in range(L):\n",
    "        for n in range(k):\n",
    "            #Initial values when we start the loop\n",
    "            if n == 0:\n",
    "                d = dist_to_nth_centroid(X[i],n)#initial distance value\n",
    "                x = n #initial cluster value\n",
    "            else:\n",
    "                dd = dist_to_nth_centroid(X[i],n)\n",
    "\n",
    "                #if distance to the new cluster is less than whatever we had before\n",
    "                if dd < d:\n",
    "                    d = dd#change distance value\n",
    "                    x = n #change cluster value\n",
    "\n",
    "        # After the loop, x is the closest cluster. Let's store the name under the correct cluster\n",
    "        dic[x].append(str(names[i][0]))\n",
    "\n",
    "    z = list(centroids)\n",
    "    for i in range(0,len(centroids)):\n",
    "        z = list(centroids[i])\n",
    "        print \"Centroid\",i\n",
    "        for player in dic[i]:\n",
    "            print player,\n",
    "        print \"\"\n",
    "        print \"\"\n",
    "        for j in range(len(z)):\n",
    "            z[j] = int(round(z[j]))\n",
    "            if z[j] != 0:\n",
    "                print columns[j],\n",
    "                print z[j]\n",
    "        print \"\"\n",
    "    return dic\n",
    "    "
   ]
  },
  {
   "cell_type": "markdown",
   "metadata": {},
   "source": [
    "Now that everything seems defined, let's call the function"
   ]
  },
  {
   "cell_type": "code",
   "execution_count": 8,
   "metadata": {
    "collapsed": false,
    "scrolled": true
   },
   "outputs": [
    {
     "name": "stdout",
     "output_type": "stream",
     "text": [
      "Centroid 0\n",
      "Benzema James Coentrao Kovacic Vazquez Asensio Morata Isco Rakitic Denis Turan Iniesta Rafinha Alcacer Gomes Tiago Torres Carrasco Correa Gameiro \n",
      "\n",
      "Total shoots pM 1\n",
      "Shoots RF pM 1\n",
      "Ball losses pM 5\n",
      "Ball recoveries pM 2\n",
      "\n",
      "Centroid 1\n",
      "Navas Casilla Stegen Moya Oblak \n",
      "\n",
      "Saves pM 4\n",
      "\n",
      "Centroid 2\n",
      "Ronaldo Bale Marcelo Suarez Messi Neymar Griezmann \n",
      "\n",
      "Total goals pM 1\n",
      "Total shoots pM 3\n",
      "Shoots RF pM 1\n",
      "Shoots LF pM 2\n",
      "Offsides pM 1\n",
      "Ball losses pM 10\n",
      "Ball recoveries pM 2\n",
      "\n",
      "Centroid 3\n",
      "Carvajal Pepe Ramos Varane Nacho Kroos Casemiro Modric Danilo Pique Busquets Mascherano Alba Digne Roberto Vidal Umtiti Mathieu Godin Filipe Luis Koke Saul Gabi Savic Vrsaljko Juanfran Gimenez \n",
      "\n",
      "Total shoots pM 1\n",
      "Ball losses pM 6\n",
      "Ball recoveries pM 8\n",
      "\n"
     ]
    }
   ],
   "source": [
    "F = 'DataSet4.xlsx'\n",
    "sheet = 'Sheet2'\n",
    "k = 4\n",
    "r= main(F, sheet, k)"
   ]
  },
  {
   "cell_type": "markdown",
   "metadata": {},
   "source": [
    "OK, goalkeepers remained, as well as forwards (look at Marcelo there, he's a character). But, looking closely, there is no real difference between midfielders and defenders.\n",
    "\n",
    "#IsThatAGlitch?\n",
    "\n",
    "Don't think so. See, the main attributes for the centroid that includes Ramos, Pique, Godin, Busquets, Modric, Koke, ... it's not just ball recoveries, but its loss/recovery ratio. It is, in fact, the main feature between all non-goalies groups.\n",
    "\n",
    "#### Loss to Recovery ratio\n",
    "\n",
    "-\"Defenders\" = 0.75\n",
    "\n",
    "-\"Midfielders\" = 2.50\n",
    "\n",
    "-\"Forwards\" = 5.00\n",
    "\n",
    "That signals three things, in my opinion: \n",
    "\n",
    "1) Forwards are indeed those that risk the most possession: they essentially play to shoot as many times as they can, as effectively as possible; the more forward on the field you are, the greater the L2R ratio will be.\n",
    "\n",
    "2) Defenders are those that focuses on recoveries: they play to protect the goalie, and to ensure that the team has the ball as much as possible: the more defender you are, the lesser the L2R ratio will be.\n",
    "\n",
    "3) Those on the midfield are inbetween these two trends: they risk that last pass, invent new plays and game on. They are the team's engine room.\n",
    "\n",
    "Let me plot RM players ball losses against ball recoveries to see if there is any trend."
   ]
  },
  {
   "cell_type": "code",
   "execution_count": 9,
   "metadata": {
    "collapsed": false
   },
   "outputs": [
    {
     "data": {
      "image/png": "[encoded data removed]",
      "text/plain": [
       "<matplotlib.figure.Figure at 0x7ff6e37c0f10>"
      ]
     },
     "metadata": {},
     "output_type": "display_data"
    }
   ],
   "source": [
    "import pandas as pd\n",
    "import matplotlib.pyplot as plt\n",
    "\n",
    "F = 'DataSet4.xlsx'\n",
    "sheet = 'Sheet2'\n",
    "df2 = pd.ExcelFile(F).parse(sheet)\n",
    "\n",
    "#r is the dictionary retured by main()\n",
    "\n",
    "def what_is_the_player_key(dic,player):#this will loop through the dictionary and return the key for a given player\n",
    "    for key in dic:\n",
    "        if player in dic[key]:\n",
    "            return key\n",
    "    return -1 #if not in dic, it will return -1\n",
    "\n",
    "\n",
    "def plotting(df2):\n",
    "    df_label = df2.ix[:,:1]\n",
    "    names = [str(list(df_label.values[i])[0]) for i in range(len(df_label))]\n",
    "    columns = list(df2.columns.values)\n",
    "    colors = ['red','blue','yellow','purple','orange','green']\n",
    "\n",
    "    d = [[0,0] for x in range(len(names))]\n",
    "\n",
    "    L_num = 14\n",
    "    D = df2.ix[:,L_num:]\n",
    "\n",
    "    for i in range(len(names)):\n",
    "        row = D.iloc[i]\n",
    "        for j in range(2):\n",
    "            d[i][j] = row[columns[L_num + j]]\n",
    "\n",
    "    X = np.array(d)\n",
    "    \n",
    "    plt.figure()\n",
    "    for i in range(len(X)):\n",
    "        plt.plot(X[i,0],X[i,1],markersize = 20, marker = '.', color = colors[what_is_the_player_key(r,names[i])])\n",
    "\n",
    "    plt.show()\n",
    "    \n",
    "plotting(df2)\n"
   ]
  },
  {
   "cell_type": "markdown",
   "metadata": {},
   "source": [
    "We can see that defenders are heavily concentrated on small lossess (low x-axis), scattered on the ball-recovery spectrum (y-axis). However, there are defenders with L2R ratios similar to what we expected in defenders. Thus, the simplistic analysis by means of L2R ratio to identify players is good guidance to filter forwards, but fails to identify defenders and midfielders.\n",
    "\n",
    "In fact, not even our analysis is able to completely identify what we accept is a midfielder from a defender. This may be due to two scenarios:\n",
    "\n",
    "1. The lack of data for each player: \n",
    "Where does the player moves the most on a given match? What is the number of passess per match? What is the accuracy of these passes? These and other questions are unanswered by our data, and could potentially give some more light to our analysis.\n",
    "\n",
    "2. The lack of players:\n",
    "Maybe 45 players isn't enough; maybe we should consider the rest of the LaLiga players to see a clearer pattern, maybe consider the same players on different seasons (maybe both cases).\n",
    "\n",
    "\n"
   ]
  },
  {
   "cell_type": "markdown",
   "metadata": {},
   "source": [
    "A follow up on this case, using bigger data, would be the perfect opportunity for a curious mind to explore the limits of this analysis.\n",
    "\n",
    "### Takeaway\n",
    "\n",
    "In the meantime, let me summarize the techniques that we have introduced in this episode.\n",
    "\n",
    "- Data Science framework.\n",
    "- Python libraries: pandas, numpy, matplotlib.\n",
    "- Machine Learning, and more specifically, clustering, with sklearn-clusters library.\n",
    "- Statistical analysis: what can we answer with the data? What is missing? What could be the reason?\n",
    "\n",
    "Hope you found this interesting. Please do give it some love if you like it, and look for me on Twitter as @oh_duran and on [Github](https://github.com/ohduran)"
   ]
  },
  {
   "cell_type": "markdown",
   "metadata": {},
   "source": []
  }
 ],
 "metadata": {
  "kernelspec": {
   "display_name": "Python 2",
   "language": "python",
   "name": "python2"
  },
  "language_info": {
   "codemirror_mode": {
    "name": "ipython",
    "version": 2
   },
   "file_extension": ".py",
   "mimetype": "text/x-python",
   "name": "python",
   "nbconvert_exporter": "python",
   "pygments_lexer": "ipython2",
   "version": "2.7.13"
  }
 },
 "nbformat": 4,
 "nbformat_minor": 2
}
